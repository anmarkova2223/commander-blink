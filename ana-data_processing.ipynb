{
 "cells": [
  {
   "cell_type": "code",
   "execution_count": 25,
   "metadata": {},
   "outputs": [],
   "source": [
    "import numpy as np \n",
    "import pandas as pd"
   ]
  },
  {
   "cell_type": "code",
   "execution_count": null,
   "metadata": {},
   "outputs": [],
   "source": [
    "df = pd.DataFrame(np.load('trial_1.npy'))"
   ]
  },
  {
   "cell_type": "code",
   "execution_count": 27,
   "metadata": {},
   "outputs": [],
   "source": [
    "df2 = pd.DataFrame(np.load('trial_2.npy'))"
   ]
  },
  {
   "cell_type": "code",
   "execution_count": 28,
   "metadata": {},
   "outputs": [],
   "source": [
    "df3 = pd.DataFrame(np.load('trial_3.npy'))"
   ]
  },
  {
   "cell_type": "code",
   "execution_count": 31,
   "metadata": {},
   "outputs": [
    {
     "data": {
      "text/plain": [
       "((34969, 12), (33507, 12), (35988, 12))"
      ]
     },
     "execution_count": 31,
     "metadata": {},
     "output_type": "execute_result"
    }
   ],
   "source": [
    "df.shape, df2.shape, df3.shape"
   ]
  },
  {
   "cell_type": "code",
   "execution_count": 33,
   "metadata": {},
   "outputs": [],
   "source": [
    "trial_cues = np.load('trials.npy')"
   ]
  },
  {
   "cell_type": "code",
   "execution_count": 35,
   "metadata": {},
   "outputs": [
    {
     "data": {
      "text/plain": [
       "array([['jaw_clench', 'blink_hard', 'jaw_clench', 'jaw_clench',\n",
       "        'double_blink', 'blink_hard', 'double_blink', 'jaw_clench',\n",
       "        'blink_hard', 'blink_hard', 'blink_hard', 'blink_hard',\n",
       "        'jaw_clench_blink', 'jaw_clench_blink', 'jaw_clench',\n",
       "        'jaw_clench_blink', 'double_blink', 'jaw_clench_blink',\n",
       "        'blink_hard', 'double_blink', 'blink_hard', 'blink_hard',\n",
       "        'blink_hard', 'jaw_clench_blink', 'jaw_clench', 'jaw_clench',\n",
       "        'double_blink', 'double_blink', 'jaw_clench', 'double_blink',\n",
       "        'jaw_clench_blink', 'blink_hard', 'double_blink', 'double_blink',\n",
       "        'jaw_clench_blink', 'double_blink', 'double_blink', 'jaw_clench',\n",
       "        'double_blink', 'jaw_clench'],\n",
       "       ['jaw_clench', 'jaw_clench_blink', 'jaw_clench_blink',\n",
       "        'jaw_clench', 'blink_hard', 'double_blink', 'blink_hard',\n",
       "        'double_blink', 'jaw_clench', 'jaw_clench', 'jaw_clench_blink',\n",
       "        'jaw_clench', 'blink_hard', 'blink_hard', 'blink_hard',\n",
       "        'jaw_clench_blink', 'jaw_clench_blink', 'blink_hard',\n",
       "        'double_blink', 'blink_hard', 'jaw_clench_blink', 'double_blink',\n",
       "        'blink_hard', 'jaw_clench', 'jaw_clench', 'jaw_clench_blink',\n",
       "        'double_blink', 'double_blink', 'jaw_clench', 'jaw_clench',\n",
       "        'jaw_clench_blink', 'jaw_clench', 'double_blink', 'double_blink',\n",
       "        'double_blink', 'double_blink', 'double_blink', 'double_blink',\n",
       "        'blink_hard', 'blink_hard'],\n",
       "       ['jaw_clench', 'jaw_clench_blink', 'jaw_clench',\n",
       "        'jaw_clench_blink', 'blink_hard', 'jaw_clench_blink',\n",
       "        'blink_hard', 'jaw_clench', 'jaw_clench_blink', 'jaw_clench',\n",
       "        'jaw_clench', 'jaw_clench_blink', 'jaw_clench',\n",
       "        'jaw_clench_blink', 'double_blink', 'jaw_clench_blink',\n",
       "        'jaw_clench_blink', 'blink_hard', 'jaw_clench', 'blink_hard',\n",
       "        'blink_hard', 'blink_hard', 'blink_hard', 'jaw_clench_blink',\n",
       "        'double_blink', 'jaw_clench_blink', 'blink_hard', 'double_blink',\n",
       "        'jaw_clench', 'jaw_clench_blink', 'blink_hard',\n",
       "        'jaw_clench_blink', 'jaw_clench', 'jaw_clench_blink',\n",
       "        'jaw_clench_blink', 'jaw_clench', 'double_blink',\n",
       "        'jaw_clench_blink', 'double_blink', 'double_blink']], dtype='<U16')"
      ]
     },
     "execution_count": 35,
     "metadata": {},
     "output_type": "execute_result"
    }
   ],
   "source": [
    "trial_cues"
   ]
  },
  {
   "cell_type": "code",
   "execution_count": 41,
   "metadata": {},
   "outputs": [],
   "source": [
    "df['stim'] = df[9] > 70#[:50000][3].plot(kind='line')"
   ]
  },
  {
   "cell_type": "code",
   "execution_count": 48,
   "metadata": {},
   "outputs": [
    {
     "data": {
      "text/plain": [
       "<Axes: ylabel='Frequency'>"
      ]
     },
     "execution_count": 48,
     "metadata": {},
     "output_type": "execute_result"
    },
    {
     "data": {
      "image/png": "[encoded data removed]",
      "text/plain": [
       "<Figure size 640x480 with 1 Axes>"
      ]
     },
     "metadata": {},
     "output_type": "display_data"
    }
   ],
   "source": [
    "df[9].plot(kind='hist')"
   ]
  },
  {
   "cell_type": "code",
   "execution_count": 53,
   "metadata": {},
   "outputs": [
    {
     "data": {
      "text/html": [
       "<div>\n",
       "<style scoped>\n",
       "    .dataframe tbody tr th:only-of-type {\n",
       "        vertical-align: middle;\n",
       "    }\n",
       "\n",
       "    .dataframe tbody tr th {\n",
       "        vertical-align: top;\n",
       "    }\n",
       "\n",
       "    .dataframe thead th {\n",
       "        text-align: right;\n",
       "    }\n",
       "</style>\n",
       "<table border=\"1\" class=\"dataframe\">\n",
       "  <thead>\n",
       "    <tr style=\"text-align: right;\">\n",
       "      <th></th>\n",
       "      <th>0</th>\n",
       "      <th>1</th>\n",
       "      <th>2</th>\n",
       "      <th>3</th>\n",
       "      <th>4</th>\n",
       "      <th>5</th>\n",
       "      <th>6</th>\n",
       "      <th>7</th>\n",
       "      <th>8</th>\n",
       "      <th>9</th>\n",
       "      <th>10</th>\n",
       "      <th>11</th>\n",
       "      <th>stim</th>\n",
       "    </tr>\n",
       "  </thead>\n",
       "  <tbody>\n",
       "    <tr>\n",
       "      <th>0</th>\n",
       "      <td>0.000000</td>\n",
       "      <td>0.000000</td>\n",
       "      <td>0.000000</td>\n",
       "      <td>0.000000</td>\n",
       "      <td>0.000000</td>\n",
       "      <td>0.000000</td>\n",
       "      <td>0.000000</td>\n",
       "      <td>0.000000</td>\n",
       "      <td>352.0</td>\n",
       "      <td>15.0</td>\n",
       "      <td>549.0</td>\n",
       "      <td>1.741214e+09</td>\n",
       "      <td>False</td>\n",
       "    </tr>\n",
       "    <tr>\n",
       "      <th>1</th>\n",
       "      <td>-13830.611268</td>\n",
       "      <td>-16608.039034</td>\n",
       "      <td>8104.273153</td>\n",
       "      <td>-716.127541</td>\n",
       "      <td>-187500.022352</td>\n",
       "      <td>-187500.022352</td>\n",
       "      <td>-187500.022352</td>\n",
       "      <td>-187500.022352</td>\n",
       "      <td>341.0</td>\n",
       "      <td>15.0</td>\n",
       "      <td>423.0</td>\n",
       "      <td>1.741214e+09</td>\n",
       "      <td>False</td>\n",
       "    </tr>\n",
       "    <tr>\n",
       "      <th>2</th>\n",
       "      <td>-13854.997022</td>\n",
       "      <td>-16632.223622</td>\n",
       "      <td>8092.404377</td>\n",
       "      <td>-740.848570</td>\n",
       "      <td>-187500.022352</td>\n",
       "      <td>-187500.022352</td>\n",
       "      <td>-187500.022352</td>\n",
       "      <td>-187500.022352</td>\n",
       "      <td>326.0</td>\n",
       "      <td>15.0</td>\n",
       "      <td>338.0</td>\n",
       "      <td>1.741214e+09</td>\n",
       "      <td>False</td>\n",
       "    </tr>\n",
       "    <tr>\n",
       "      <th>3</th>\n",
       "      <td>-13846.659821</td>\n",
       "      <td>-16616.175069</td>\n",
       "      <td>8117.170109</td>\n",
       "      <td>-712.193634</td>\n",
       "      <td>-187500.022352</td>\n",
       "      <td>-187500.022352</td>\n",
       "      <td>-187500.022352</td>\n",
       "      <td>-187500.022352</td>\n",
       "      <td>311.0</td>\n",
       "      <td>15.0</td>\n",
       "      <td>283.0</td>\n",
       "      <td>1.741214e+09</td>\n",
       "      <td>False</td>\n",
       "    </tr>\n",
       "    <tr>\n",
       "      <th>4</th>\n",
       "      <td>-13820.843556</td>\n",
       "      <td>-16588.257741</td>\n",
       "      <td>8135.766761</td>\n",
       "      <td>-680.632970</td>\n",
       "      <td>-187500.022352</td>\n",
       "      <td>-187500.022352</td>\n",
       "      <td>-187500.022352</td>\n",
       "      <td>-187500.022352</td>\n",
       "      <td>295.0</td>\n",
       "      <td>15.0</td>\n",
       "      <td>247.0</td>\n",
       "      <td>1.741214e+09</td>\n",
       "      <td>False</td>\n",
       "    </tr>\n",
       "    <tr>\n",
       "      <th>...</th>\n",
       "      <td>...</td>\n",
       "      <td>...</td>\n",
       "      <td>...</td>\n",
       "      <td>...</td>\n",
       "      <td>...</td>\n",
       "      <td>...</td>\n",
       "      <td>...</td>\n",
       "      <td>...</td>\n",
       "      <td>...</td>\n",
       "      <td>...</td>\n",
       "      <td>...</td>\n",
       "      <td>...</td>\n",
       "      <td>...</td>\n",
       "    </tr>\n",
       "    <tr>\n",
       "      <th>34964</th>\n",
       "      <td>-13748.334497</td>\n",
       "      <td>-16458.684678</td>\n",
       "      <td>8171.306034</td>\n",
       "      <td>-1077.219972</td>\n",
       "      <td>-187500.022352</td>\n",
       "      <td>-187500.022352</td>\n",
       "      <td>-187500.022352</td>\n",
       "      <td>-187500.022352</td>\n",
       "      <td>338.0</td>\n",
       "      <td>128.0</td>\n",
       "      <td>679.0</td>\n",
       "      <td>1.741214e+09</td>\n",
       "      <td>True</td>\n",
       "    </tr>\n",
       "    <tr>\n",
       "      <th>34965</th>\n",
       "      <td>-13754.436523</td>\n",
       "      <td>-16484.009204</td>\n",
       "      <td>8146.875578</td>\n",
       "      <td>-1115.061476</td>\n",
       "      <td>-187500.022352</td>\n",
       "      <td>-187500.022352</td>\n",
       "      <td>-187500.022352</td>\n",
       "      <td>-187500.022352</td>\n",
       "      <td>338.0</td>\n",
       "      <td>128.0</td>\n",
       "      <td>679.0</td>\n",
       "      <td>1.741214e+09</td>\n",
       "      <td>True</td>\n",
       "    </tr>\n",
       "    <tr>\n",
       "      <th>34966</th>\n",
       "      <td>-13763.332518</td>\n",
       "      <td>-16492.659329</td>\n",
       "      <td>8150.116581</td>\n",
       "      <td>-1124.136284</td>\n",
       "      <td>-187500.022352</td>\n",
       "      <td>-187500.022352</td>\n",
       "      <td>-187500.022352</td>\n",
       "      <td>-187500.022352</td>\n",
       "      <td>338.0</td>\n",
       "      <td>128.0</td>\n",
       "      <td>679.0</td>\n",
       "      <td>1.741214e+09</td>\n",
       "      <td>True</td>\n",
       "    </tr>\n",
       "    <tr>\n",
       "      <th>34967</th>\n",
       "      <td>-13758.348079</td>\n",
       "      <td>-16474.487361</td>\n",
       "      <td>8169.495543</td>\n",
       "      <td>-1094.252002</td>\n",
       "      <td>-187500.022352</td>\n",
       "      <td>-187500.022352</td>\n",
       "      <td>-187500.022352</td>\n",
       "      <td>-187500.022352</td>\n",
       "      <td>338.0</td>\n",
       "      <td>128.0</td>\n",
       "      <td>679.0</td>\n",
       "      <td>1.741214e+09</td>\n",
       "      <td>True</td>\n",
       "    </tr>\n",
       "    <tr>\n",
       "      <th>34968</th>\n",
       "      <td>-13742.232471</td>\n",
       "      <td>-16460.517521</td>\n",
       "      <td>8170.054337</td>\n",
       "      <td>-1083.433757</td>\n",
       "      <td>-187500.022352</td>\n",
       "      <td>-187500.022352</td>\n",
       "      <td>-187500.022352</td>\n",
       "      <td>-187500.022352</td>\n",
       "      <td>338.0</td>\n",
       "      <td>128.0</td>\n",
       "      <td>679.0</td>\n",
       "      <td>1.741214e+09</td>\n",
       "      <td>True</td>\n",
       "    </tr>\n",
       "  </tbody>\n",
       "</table>\n",
       "<p>34969 rows × 13 columns</p>\n",
       "</div>"
      ],
      "text/plain": [
       "                  0             1            2            3              4  \\\n",
       "0          0.000000      0.000000     0.000000     0.000000       0.000000   \n",
       "1     -13830.611268 -16608.039034  8104.273153  -716.127541 -187500.022352   \n",
       "2     -13854.997022 -16632.223622  8092.404377  -740.848570 -187500.022352   \n",
       "3     -13846.659821 -16616.175069  8117.170109  -712.193634 -187500.022352   \n",
       "4     -13820.843556 -16588.257741  8135.766761  -680.632970 -187500.022352   \n",
       "...             ...           ...          ...          ...            ...   \n",
       "34964 -13748.334497 -16458.684678  8171.306034 -1077.219972 -187500.022352   \n",
       "34965 -13754.436523 -16484.009204  8146.875578 -1115.061476 -187500.022352   \n",
       "34966 -13763.332518 -16492.659329  8150.116581 -1124.136284 -187500.022352   \n",
       "34967 -13758.348079 -16474.487361  8169.495543 -1094.252002 -187500.022352   \n",
       "34968 -13742.232471 -16460.517521  8170.054337 -1083.433757 -187500.022352   \n",
       "\n",
       "                   5              6              7      8      9     10  \\\n",
       "0           0.000000       0.000000       0.000000  352.0   15.0  549.0   \n",
       "1     -187500.022352 -187500.022352 -187500.022352  341.0   15.0  423.0   \n",
       "2     -187500.022352 -187500.022352 -187500.022352  326.0   15.0  338.0   \n",
       "3     -187500.022352 -187500.022352 -187500.022352  311.0   15.0  283.0   \n",
       "4     -187500.022352 -187500.022352 -187500.022352  295.0   15.0  247.0   \n",
       "...              ...            ...            ...    ...    ...    ...   \n",
       "34964 -187500.022352 -187500.022352 -187500.022352  338.0  128.0  679.0   \n",
       "34965 -187500.022352 -187500.022352 -187500.022352  338.0  128.0  679.0   \n",
       "34966 -187500.022352 -187500.022352 -187500.022352  338.0  128.0  679.0   \n",
       "34967 -187500.022352 -187500.022352 -187500.022352  338.0  128.0  679.0   \n",
       "34968 -187500.022352 -187500.022352 -187500.022352  338.0  128.0  679.0   \n",
       "\n",
       "                 11   stim  \n",
       "0      1.741214e+09  False  \n",
       "1      1.741214e+09  False  \n",
       "2      1.741214e+09  False  \n",
       "3      1.741214e+09  False  \n",
       "4      1.741214e+09  False  \n",
       "...             ...    ...  \n",
       "34964  1.741214e+09   True  \n",
       "34965  1.741214e+09   True  \n",
       "34966  1.741214e+09   True  \n",
       "34967  1.741214e+09   True  \n",
       "34968  1.741214e+09   True  \n",
       "\n",
       "[34969 rows x 13 columns]"
      ]
     },
     "execution_count": 53,
     "metadata": {},
     "output_type": "execute_result"
    }
   ],
   "source": [
    "df"
   ]
  },
  {
   "cell_type": "code",
   "execution_count": null,
   "metadata": {},
   "outputs": [],
   "source": [
    "df = pd.DataFrame(np.load('trial_1.npy'))\n",
    "df['onset'] = (df[9].shift(1) < 30) & (df[9] >= 30)\n",
    "df['offset'] = (df[9].shift(-1) < 30) & (df[9] >= 30)"
   ]
  },
  {
   "cell_type": "code",
   "execution_count": 112,
   "metadata": {},
   "outputs": [],
   "source": [
    "onset_idx = df[df['onset'] == True].index[11]\n",
    "offset_idx = df[df['offset'] == True].index[11]"
   ]
  },
  {
   "cell_type": "code",
   "execution_count": 113,
   "metadata": {},
   "outputs": [
    {
     "data": {
      "text/plain": [
       "(13489, 13866)"
      ]
     },
     "execution_count": 113,
     "metadata": {},
     "output_type": "execute_result"
    }
   ],
   "source": [
    "onset_idx, offset_idx"
   ]
  },
  {
   "cell_type": "code",
   "execution_count": 114,
   "metadata": {},
   "outputs": [
    {
     "data": {
      "text/plain": [
       "<Axes: >"
      ]
     },
     "execution_count": 114,
     "metadata": {},
     "output_type": "execute_result"
    },
    {
     "data": {
      "image/png": "[encoded data removed]",
      "text/plain": [
       "<Figure size 640x480 with 1 Axes>"
      ]
     },
     "metadata": {},
     "output_type": "display_data"
    }
   ],
   "source": [
    "df[3].iloc[onset_idx:offset_idx].plot(kind='line')"
   ]
  },
  {
   "cell_type": "code",
   "execution_count": null,
   "metadata": {},
   "outputs": [],
   "source": []
  }
 ],
 "metadata": {
  "kernelspec": {
   "display_name": "base",
   "language": "python",
   "name": "python3"
  },
  "language_info": {
   "codemirror_mode": {
    "name": "ipython",
    "version": 3
   },
   "file_extension": ".py",
   "mimetype": "text/x-python",
   "name": "python",
   "nbconvert_exporter": "python",
   "pygments_lexer": "ipython3",
   "version": "3.10.15"
  }
 },
 "nbformat": 4,
 "nbformat_minor": 2
}
